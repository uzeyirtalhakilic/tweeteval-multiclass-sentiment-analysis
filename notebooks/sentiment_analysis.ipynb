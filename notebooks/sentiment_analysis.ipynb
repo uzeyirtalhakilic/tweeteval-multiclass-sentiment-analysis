{
 "cells": [
  {
   "cell_type": "markdown",
   "metadata": {},
   "source": [
    "# Tweet Duygu Analizi\n",
    "\n",
    "Bu notebook, tweet_eval veri seti kullanılarak duygu analizi modelinin eğitilmesi ve değerlendirilmesi için hazırlanmıştır."
   ]
  },
  {
   "cell_type": "code",
   "execution_count": 2,
   "metadata": {},
   "outputs": [
    {
     "name": "stderr",
     "output_type": "stream",
     "text": [
      "c:\\Users\\uzeyi\\AppData\\Local\\Programs\\Python\\Python312\\Lib\\site-packages\\tqdm\\auto.py:21: TqdmWarning: IProgress not found. Please update jupyter and ipywidgets. See https://ipywidgets.readthedocs.io/en/stable/user_install.html\n",
      "  from .autonotebook import tqdm as notebook_tqdm\n"
     ]
    }
   ],
   "source": [
    "# Gerekli kütüphaneleri içe aktar\n",
    "import pandas as pd\n",
    "import numpy as np\n",
    "from datasets import load_dataset\n",
    "from sklearn.model_selection import train_test_split\n",
    "from sklearn.feature_extraction.text import TfidfVectorizer\n",
    "from sklearn.linear_model import LogisticRegression\n",
    "from sklearn.metrics import classification_report, confusion_matrix\n",
    "import seaborn as sns\n",
    "import matplotlib.pyplot as plt\n",
    "import logging\n",
    "\n",
    "# Logging ayarları\n",
    "logging.basicConfig(level=logging.INFO, format='%(asctime)s - %(levelname)s - %(message)s')"
   ]
  },
  {
   "cell_type": "markdown",
   "metadata": {},
   "source": [
    "## Veri Setini Yükle"
   ]
  },
  {
   "cell_type": "code",
   "execution_count": 3,
   "metadata": {},
   "outputs": [
    {
     "name": "stderr",
     "output_type": "stream",
     "text": [
      "2025-06-14 16:50:01,187 - INFO - Veri seti yükleniyor...\n"
     ]
    },
    {
     "name": "stdout",
     "output_type": "stream",
     "text": [
      "Eğitim veri seti boyutu: 45615\n",
      "Test veri seti boyutu: 12284\n"
     ]
    }
   ],
   "source": [
    "# Veri setini yükle\n",
    "logging.info(\"Veri seti yükleniyor...\")\n",
    "dataset = load_dataset(\"tweet_eval\", \"sentiment\")\n",
    "train_data = pd.DataFrame(dataset['train'])\n",
    "test_data = pd.DataFrame(dataset['test'])\n",
    "\n",
    "print(f\"Eğitim veri seti boyutu: {len(train_data)}\")\n",
    "print(f\"Test veri seti boyutu: {len(test_data)}\")"
   ]
  },
  {
   "cell_type": "markdown",
   "metadata": {},
   "source": [
    "## Veri Setini İncele"
   ]
  },
  {
   "cell_type": "code",
   "execution_count": 4,
   "metadata": {},
   "outputs": [
    {
     "data": {
      "text/html": [
       "<div>\n",
       "<style scoped>\n",
       "    .dataframe tbody tr th:only-of-type {\n",
       "        vertical-align: middle;\n",
       "    }\n",
       "\n",
       "    .dataframe tbody tr th {\n",
       "        vertical-align: top;\n",
       "    }\n",
       "\n",
       "    .dataframe thead th {\n",
       "        text-align: right;\n",
       "    }\n",
       "</style>\n",
       "<table border=\"1\" class=\"dataframe\">\n",
       "  <thead>\n",
       "    <tr style=\"text-align: right;\">\n",
       "      <th></th>\n",
       "      <th>text</th>\n",
       "      <th>label</th>\n",
       "    </tr>\n",
       "  </thead>\n",
       "  <tbody>\n",
       "    <tr>\n",
       "      <th>0</th>\n",
       "      <td>\"QT @user In the original draft of the 7th boo...</td>\n",
       "      <td>2</td>\n",
       "    </tr>\n",
       "    <tr>\n",
       "      <th>1</th>\n",
       "      <td>\"Ben Smith / Smith (concussion) remains out of...</td>\n",
       "      <td>1</td>\n",
       "    </tr>\n",
       "    <tr>\n",
       "      <th>2</th>\n",
       "      <td>Sorry bout the stream last night I crashed out...</td>\n",
       "      <td>1</td>\n",
       "    </tr>\n",
       "    <tr>\n",
       "      <th>3</th>\n",
       "      <td>Chase Headley's RBI double in the 8th inning o...</td>\n",
       "      <td>1</td>\n",
       "    </tr>\n",
       "    <tr>\n",
       "      <th>4</th>\n",
       "      <td>@user Alciato: Bee will invest 150 million in ...</td>\n",
       "      <td>2</td>\n",
       "    </tr>\n",
       "  </tbody>\n",
       "</table>\n",
       "</div>"
      ],
      "text/plain": [
       "                                                text  label\n",
       "0  \"QT @user In the original draft of the 7th boo...      2\n",
       "1  \"Ben Smith / Smith (concussion) remains out of...      1\n",
       "2  Sorry bout the stream last night I crashed out...      1\n",
       "3  Chase Headley's RBI double in the 8th inning o...      1\n",
       "4  @user Alciato: Bee will invest 150 million in ...      2"
      ]
     },
     "execution_count": 4,
     "metadata": {},
     "output_type": "execute_result"
    }
   ],
   "source": [
    "# Veri setinin ilk birkaç örneğini göster\n",
    "train_data.head()"
   ]
  },
  {
   "cell_type": "code",
   "execution_count": 5,
   "metadata": {},
   "outputs": [
    {
     "name": "stderr",
     "output_type": "stream",
     "text": [
      "2025-06-14 16:50:15,181 - INFO - Using categorical units to plot a list of strings that are all parsable as floats or dates. If these strings should be plotted as numbers, cast to the appropriate data type before plotting.\n",
      "2025-06-14 16:50:15,198 - INFO - Using categorical units to plot a list of strings that are all parsable as floats or dates. If these strings should be plotted as numbers, cast to the appropriate data type before plotting.\n"
     ]
    },
    {
     "data": {
      "image/png": "[encoded data removed]",
      "text/plain": [
       "<Figure size 1000x600 with 1 Axes>"
      ]
     },
     "metadata": {},
     "output_type": "display_data"
    }
   ],
   "source": [
    "# Etiket dağılımını göster\n",
    "label_counts = train_data['label'].value_counts()\n",
    "plt.figure(figsize=(10, 6))\n",
    "sns.barplot(x=label_counts.index, y=label_counts.values)\n",
    "plt.title('Etiket Dağılımı')\n",
    "plt.xlabel('Etiket')\n",
    "plt.ylabel('Sayı')\n",
    "plt.xticks([0, 1, 2], ['Negatif', 'Nötr', 'Pozitif'])\n",
    "plt.show()"
   ]
  },
  {
   "cell_type": "markdown",
   "metadata": {},
   "source": [
    "## Model Eğitimi"
   ]
  },
  {
   "cell_type": "code",
   "execution_count": 6,
   "metadata": {},
   "outputs": [
    {
     "name": "stderr",
     "output_type": "stream",
     "text": [
      "2025-06-14 16:50:15,491 - INFO - Metinler vektörleştiriliyor...\n",
      "2025-06-14 16:50:17,392 - INFO - Model eğitiliyor...\n"
     ]
    },
    {
     "name": "stdout",
     "output_type": "stream",
     "text": [
      "Model eğitimi tamamlandı.\n"
     ]
    }
   ],
   "source": [
    "# TF-IDF vektörleştirici oluştur\n",
    "logging.info(\"Metinler vektörleştiriliyor...\")\n",
    "vectorizer = TfidfVectorizer(max_features=5000)\n",
    "X_train_tfidf = vectorizer.fit_transform(train_data['text'])\n",
    "\n",
    "# Lojistik regresyon modeli oluştur ve eğit\n",
    "logging.info(\"Model eğitiliyor...\")\n",
    "model = LogisticRegression(multi_class='multinomial', solver='lbfgs', max_iter=1000)\n",
    "model.fit(X_train_tfidf, train_data['label'])\n",
    "\n",
    "print(\"Model eğitimi tamamlandı.\")"
   ]
  },
  {
   "cell_type": "markdown",
   "metadata": {},
   "source": [
    "## Model Değerlendirme"
   ]
  },
  {
   "cell_type": "code",
   "execution_count": 7,
   "metadata": {},
   "outputs": [
    {
     "name": "stderr",
     "output_type": "stream",
     "text": [
      "2025-06-14 16:50:20,795 - INFO - Test seti üzerinde tahmin yapılıyor...\n"
     ]
    },
    {
     "name": "stdout",
     "output_type": "stream",
     "text": [
      "Sınıflandırma Raporu:\n",
      "              precision    recall  f1-score   support\n",
      "\n",
      "     Negatif       0.65      0.38      0.48      3972\n",
      "        Nötr       0.59      0.73      0.66      5937\n",
      "     Pozitif       0.52      0.58      0.55      2375\n",
      "\n",
      "    accuracy                           0.59     12284\n",
      "   macro avg       0.59      0.56      0.56     12284\n",
      "weighted avg       0.60      0.59      0.58     12284\n",
      "\n"
     ]
    }
   ],
   "source": [
    "# Test seti üzerinde tahmin yap\n",
    "logging.info(\"Test seti üzerinde tahmin yapılıyor...\")\n",
    "X_test_tfidf = vectorizer.transform(test_data['text'])\n",
    "y_pred = model.predict(X_test_tfidf)\n",
    "\n",
    "# Sınıflandırma raporu\n",
    "print(\"Sınıflandırma Raporu:\")\n",
    "print(classification_report(test_data['label'], y_pred, target_names=['Negatif', 'Nötr', 'Pozitif']))"
   ]
  },
  {
   "cell_type": "code",
   "execution_count": 8,
   "metadata": {},
   "outputs": [
    {
     "data": {
      "image/png": "[encoded data removed]",
      "text/plain": [
       "<Figure size 1000x800 with 2 Axes>"
      ]
     },
     "metadata": {},
     "output_type": "display_data"
    }
   ],
   "source": [
    "# Karmaşıklık matrisi\n",
    "cm = confusion_matrix(test_data['label'], y_pred)\n",
    "plt.figure(figsize=(10, 8))\n",
    "sns.heatmap(cm, annot=True, fmt='d', cmap='Blues',\n",
    "            xticklabels=['Negatif', 'Nötr', 'Pozitif'],\n",
    "            yticklabels=['Negatif', 'Nötr', 'Pozitif'])\n",
    "plt.xlabel('Tahmin')\n",
    "plt.ylabel('Gerçek')\n",
    "plt.title('Karmaşıklık Matrisi')\n",
    "plt.show()"
   ]
  },
  {
   "cell_type": "markdown",
   "metadata": {},
   "source": [
    "## Örnek Tahminler"
   ]
  },
  {
   "cell_type": "code",
   "execution_count": 9,
   "metadata": {},
   "outputs": [
    {
     "name": "stdout",
     "output_type": "stream",
     "text": [
      "\n",
      "Metin: I love this product! It's amazing!\n",
      "Tahmin: Pozitif\n",
      "Olasılıklar: {'Negatif': 0.001336252534322186, 'Nötr': 0.0016793617842499368, 'Pozitif': 0.9969843856814279}\n",
      "\n",
      "Metin: This is just okay, nothing special.\n",
      "Tahmin: Pozitif\n",
      "Olasılıklar: {'Negatif': 0.25464288391427675, 'Nötr': 0.2961850120112519, 'Pozitif': 0.4491721040744712}\n",
      "\n",
      "Metin: I hate this product, it's terrible!\n",
      "Tahmin: Negatif\n",
      "Olasılıklar: {'Negatif': 0.9671632753728484, 'Nötr': 0.029314880530840318, 'Pozitif': 0.0035218440963113115}\n"
     ]
    }
   ],
   "source": [
    "# Örnek metinler üzerinde tahmin yap\n",
    "example_texts = [\n",
    "    \"I love this product! It's amazing!\",\n",
    "    \"This is just okay, nothing special.\",\n",
    "    \"I hate this product, it's terrible!\"\n",
    "]\n",
    "\n",
    "for text in example_texts:\n",
    "    text_tfidf = vectorizer.transform([text])\n",
    "    prediction = model.predict(text_tfidf)[0]\n",
    "    probability = model.predict_proba(text_tfidf)[0]\n",
    "    \n",
    "    print(f\"\\nMetin: {text}\")\n",
    "    print(f\"Tahmin: {['Negatif', 'Nötr', 'Pozitif'][prediction]}\")\n",
    "    print(f\"Olasılıklar: {dict(zip(['Negatif', 'Nötr', 'Pozitif'], probability))}\")"
   ]
  }
 ],
 "metadata": {
  "kernelspec": {
   "display_name": "Python 3",
   "language": "python",
   "name": "python3"
  },
  "language_info": {
   "codemirror_mode": {
    "name": "ipython",
    "version": 3
   },
   "file_extension": ".py",
   "mimetype": "text/x-python",
   "name": "python",
   "nbconvert_exporter": "python",
   "pygments_lexer": "ipython3",
   "version": "3.12.1"
  }
 },
 "nbformat": 4,
 "nbformat_minor": 4
}
